{
 "cells": [
  {
   "cell_type": "code",
   "execution_count": 1,
   "metadata": {},
   "outputs": [],
   "source": [
    "# in oop classes, objects, attributes, methods\n",
    "# classes\n",
    "#attributes are characteristics of a func\n",
    "\n",
    "\n",
    "class Animal: #class declaration\n",
    "    def __init__(self,leg_,food_,skin_):\n",
    "        #attributes\n",
    "        self.leg = leg_\n",
    "        self.food = food_\n",
    "        self.skin = skin_"
   ]
  },
  {
   "cell_type": "code",
   "execution_count": 2,
   "metadata": {},
   "outputs": [],
   "source": [
    "lion = Animal(leg_=4,food_='flesh',skin_='hair')"
   ]
  },
  {
   "cell_type": "code",
   "execution_count": 3,
   "metadata": {},
   "outputs": [
    {
     "data": {
      "text/plain": [
       "'flesh'"
      ]
     },
     "execution_count": 3,
     "metadata": {},
     "output_type": "execute_result"
    }
   ],
   "source": [
    "lion.food#attribute call on object"
   ]
  },
  {
   "cell_type": "code",
   "execution_count": 170,
   "metadata": {},
   "outputs": [],
   "source": [
    "class Superheros: \n",
    "    def __init__(self,ability,intellect,custome,identity,dob):\n",
    "        self.ability = ability\n",
    "        self.intellect = intellect\n",
    "        self.custome = custome\n",
    "        self.identity = identity\n",
    "        self.dob = dob\n",
    "#create a class method\n",
    "    def age(self,year):\n",
    "        \"\"\"\n",
    "        age returns objects age based on the year passed\n",
    "        \"\"\"\n",
    "        age_today = year - self.dob\n",
    "        return f'{self.identity} is {age_today} years old'"
   ]
  },
  {
   "cell_type": "code",
   "execution_count": 171,
   "metadata": {},
   "outputs": [],
   "source": [
    "oboito = Superheros(ability='teleporting',intellect=' pretty_smart',\n",
    "                    custome='black_red',identity='Obito Uchiha',dob=2005)"
   ]
  },
  {
   "cell_type": "code",
   "execution_count": 80,
   "metadata": {},
   "outputs": [],
   "source": [
    "minato = Superheros(\"Sage mode\",\"Genius\",\"Cloak\",\"Namikaze Minato\",1995)"
   ]
  },
  {
   "cell_type": "code",
   "execution_count": 81,
   "metadata": {},
   "outputs": [
    {
     "data": {
      "text/plain": [
       "'Namikaze Minato is 26 years old'"
      ]
     },
     "execution_count": 81,
     "metadata": {},
     "output_type": "execute_result"
    }
   ],
   "source": [
    "minato.age(2021)"
   ]
  },
  {
   "cell_type": "code",
   "execution_count": 82,
   "metadata": {},
   "outputs": [],
   "source": [
    "#class inheritance\n",
    "class Xmen(Superheros): \n",
    "    def __init__(self,ability,custome,identity,dob):\n",
    "        self.ability = ability\n",
    "        self.custome = custome\n",
    "        self.identity = identity\n",
    "        self.dob = dob"
   ]
  },
  {
   "cell_type": "code",
   "execution_count": 83,
   "metadata": {},
   "outputs": [],
   "source": [
    "jean = Xmen('jean Grey','Embodie phoenix','yellow',2001)"
   ]
  },
  {
   "cell_type": "code",
   "execution_count": 84,
   "metadata": {},
   "outputs": [
    {
     "data": {
      "text/plain": [
       "'yellow is 20 years old'"
      ]
     },
     "execution_count": 84,
     "metadata": {},
     "output_type": "execute_result"
    }
   ],
   "source": [
    "jean.age(2021)"
   ]
  },
  {
   "cell_type": "code",
   "execution_count": 85,
   "metadata": {},
   "outputs": [],
   "source": [
    "#assignment\n",
    "#class object:name:future stand,length: 90, rotten:85%,anticipation:90\n",
    "#create a class method that predicts revenue\n",
    "#alogrithm:(#average of anticipation and rotten)population, multiplied by 8USD\n",
    "#average of anticipation and rotten\n",
    "#worlds population 7.8 billion\n"
   ]
  },
  {
   "cell_type": "code",
   "execution_count": 167,
   "metadata": {},
   "outputs": [],
   "source": [
    "class Boxoffice:\n",
    "    def __init__(self,length,rotten,anticipation,name):\n",
    "        self.length = length\n",
    "        self.rotten = rotten\n",
    "        self.anticipation = anticipation\n",
    "        self.name = name\n",
    "#class mehtod\n",
    "    def profit(self,rotten,length):\n",
    "        \"\"\"\n",
    "        profit returns the work on the review\n",
    "        \"\"\"\n",
    "        import statistics as st\n",
    "        result = st.mean((self.rotten,self.length)) / 100 \n",
    "        tem = result * 7800000000\n",
    "        t_profit = tem * 8\n",
    "        return f'Box office total profit made on this movie ${t_profit} called XMEN: {self.name}'\n",
    "\n",
    "    \n"
   ]
  },
  {
   "cell_type": "code",
   "execution_count": 168,
   "metadata": {},
   "outputs": [],
   "source": [
    "xmen = Boxoffice(45,67,78,'Future Stand')"
   ]
  },
  {
   "cell_type": "code",
   "execution_count": 169,
   "metadata": {},
   "outputs": [
    {
     "data": {
      "text/plain": [
       "'Box office total profit made on this movie $34944000000.0 called XMEN: Future Stand'"
      ]
     },
     "execution_count": 169,
     "metadata": {},
     "output_type": "execute_result"
    }
   ],
   "source": [
    "xmen.profit(67,78)"
   ]
  },
  {
   "cell_type": "code",
   "execution_count": 8,
   "metadata": {},
   "outputs": [
    {
     "data": {
      "text/plain": [
       "1024"
      ]
     },
     "execution_count": 8,
     "metadata": {},
     "output_type": "execute_result"
    }
   ],
   "source": [
    "#pow is use for square of an object\n",
    "\n",
    "pow(4,5)"
   ]
  },
  {
   "cell_type": "code",
   "execution_count": null,
   "metadata": {},
   "outputs": [],
   "source": []
  },
  {
   "cell_type": "code",
   "execution_count": null,
   "metadata": {},
   "outputs": [],
   "source": []
  }
 ],
 "metadata": {
  "kernelspec": {
   "display_name": "Python 3",
   "language": "python",
   "name": "python3"
  },
  "language_info": {
   "codemirror_mode": {
    "name": "ipython",
    "version": 3
   },
   "file_extension": ".py",
   "mimetype": "text/x-python",
   "name": "python",
   "nbconvert_exporter": "python",
   "pygments_lexer": "ipython3",
   "version": "3.7.3"
  }
 },
 "nbformat": 4,
 "nbformat_minor": 2
}
