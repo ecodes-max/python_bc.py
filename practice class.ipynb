{
 "cells": [
  {
   "cell_type": "code",
   "execution_count": 4,
   "metadata": {},
   "outputs": [
    {
     "name": "stdout",
     "output_type": "stream",
     "text": [
      "First Name \n",
      "Last Name ee\n",
      "Input Username \n",
      "password e\n",
      "Confirm password \n",
      "wrong password recheck first password\n"
     ]
    }
   ],
   "source": [
    "#:>> create an email using sign in method with input,else,print,if\n",
    "firstname= input('First Name ')\n",
    "lastname= input('Last Name ')\n",
    "username= input('Input Username ') + (' @gmail')\n",
    "password= input('password ')\n",
    "password1= input('Confirm password ')\n",
    "if password==password1:\n",
    "    print('continue process')\n",
    "else:\n",
    "    print('wrong password recheck first password')\n"
   ]
  },
  {
   "cell_type": "code",
   "execution_count": 3,
   "metadata": {},
   "outputs": [
    {
     "name": "stdout",
     "output_type": "stream",
     "text": [
      "First Name emm\n",
      "Last Name e\n",
      "Input Username e\n",
      "password 2\n",
      "Confirm password 2\n",
      "wrong password recheck first password make sure that password is in numbers \n"
     ]
    }
   ],
   "source": [
    "#:>> create an email using sign in method with input,else,print,if\n",
    "firstname= input('First Name ')\n",
    "lastname= input('Last Name ')\n",
    "username=input('Input Username ') + (' @gmail')\n",
    "password= int(input('password '))\n",
    "password1= input('Confirm password ')\n",
    "if password==password1:\n",
    "    print('continue process')\n",
    "else:\n",
    "    print('wrong password recheck first password make sure that password is in numbers ')"
   ]
  },
  {
   "cell_type": "code",
   "execution_count": 1,
   "metadata": {},
   "outputs": [
    {
     "name": "stdout",
     "output_type": "stream",
     "text": [
      "youre going in a loop\n"
     ]
    }
   ],
   "source": [
    "the_world_is_flat = False\n",
    "if the_world_is_flat:\n",
    "    print('Becareful dont fall off')\n",
    "else:\n",
    "    print('youre going in a loop')"
   ]
  },
  {
   "cell_type": "code",
   "execution_count": null,
   "metadata": {},
   "outputs": [],
   "source": []
  }
 ],
 "metadata": {
  "kernelspec": {
   "display_name": "Python 3",
   "language": "python",
   "name": "python3"
  },
  "language_info": {
   "codemirror_mode": {
    "name": "ipython",
    "version": 3
   },
   "file_extension": ".py",
   "mimetype": "text/x-python",
   "name": "python",
   "nbconvert_exporter": "python",
   "pygments_lexer": "ipython3",
   "version": "3.7.3"
  }
 },
 "nbformat": 4,
 "nbformat_minor": 2
}
