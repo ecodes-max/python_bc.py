{
 "cells": [
  {
   "cell_type": "code",
   "execution_count": 1,
   "metadata": {},
   "outputs": [],
   "source": [
    "#:>>functions\n",
    "#in programming file size is very important\n",
    "#how to define how function with the us of (def)\n",
    "#use of a name that those not exist in phython as a function\n",
    "# def addition\n",
    "# instead of use of print use return\n",
    "\n",
    "def today(day): #takes 1 argument/parameter\n",
    "    return f'{day} is a good day'"
   ]
  },
  {
   "cell_type": "code",
   "execution_count": 20,
   "metadata": {},
   "outputs": [
    {
     "data": {
      "text/plain": [
       "'Friday is a day'"
      ]
     },
     "execution_count": 20,
     "metadata": {},
     "output_type": "execute_result"
    }
   ],
   "source": [
    "today('Friday')"
   ]
  },
  {
   "cell_type": "code",
   "execution_count": 19,
   "metadata": {},
   "outputs": [],
   "source": [
    "def addition(num1=1,num2=1,num3=0):\n",
    "    \"\"\"\n",
    "    addition returns the sum of three numbers\n",
    "    \"\"\"\n",
    "    return f'{num1+num2+num3} is my number'"
   ]
  },
  {
   "cell_type": "code",
   "execution_count": 20,
   "metadata": {},
   "outputs": [],
   "source": [
    "result = addition(2,3)"
   ]
  },
  {
   "cell_type": "code",
   "execution_count": 21,
   "metadata": {},
   "outputs": [
    {
     "data": {
      "text/plain": [
       "'5 is my number'"
      ]
     },
     "execution_count": 21,
     "metadata": {},
     "output_type": "execute_result"
    }
   ],
   "source": [
    "result"
   ]
  },
  {
   "cell_type": "code",
   "execution_count": 23,
   "metadata": {},
   "outputs": [],
   "source": [
    "def minus(num3=0,num4=0):\n",
    "    \"\"\"\n",
    "    minus returns the subtraction os two numbers\n",
    "    \"\"\"\n",
    "    return f'{num3-num4} this is your lucky number'"
   ]
  },
  {
   "cell_type": "code",
   "execution_count": 24,
   "metadata": {},
   "outputs": [
    {
     "data": {
      "text/plain": [
       "'17 this is your lucky number'"
      ]
     },
     "execution_count": 24,
     "metadata": {},
     "output_type": "execute_result"
    }
   ],
   "source": [
    "minus(20,3)"
   ]
  },
  {
   "cell_type": "code",
   "execution_count": 25,
   "metadata": {},
   "outputs": [],
   "source": [
    "# note functions can also be assign to a variable in hardly case"
   ]
  },
  {
   "cell_type": "code",
   "execution_count": 41,
   "metadata": {},
   "outputs": [],
   "source": [
    "#:>> calculation of GP and CGP\n",
    "uniabuja = {\n",
    "    'ABJ373672':[\n",
    "        ['GST101',2,'A'],\n",
    "        ['GST102',2,'B'],\n",
    "        ['MTH101',3,'C'],\n",
    "        ['PHY101',3,'B'],\n",
    "        ['CHM101',3,'B'],\n",
    "        ['CSC101',2,'A'],\n",
    "        ['MTH103',3,'A'],\n",
    "        ['CSC103',2,'B'],\n",
    "    ]\n",
    "}"
   ]
  },
  {
   "cell_type": "code",
   "execution_count": 42,
   "metadata": {},
   "outputs": [],
   "source": [
    "# ((u*s)+(u*s))T/U\n",
    "#U = credit unit\n",
    "#S = score\n",
    "#TU = Total Unit"
   ]
  },
  {
   "cell_type": "code",
   "execution_count": 43,
   "metadata": {},
   "outputs": [
    {
     "name": "stdout",
     "output_type": "stream",
     "text": [
      " GPA score for ABJ373672 is 4.2\n"
     ]
    }
   ],
   "source": [
    "matric_no = 'ABJ373672'\n",
    "#def gpa(matric_no):\n",
    "verify = uniabuja[matric_no]    \n",
    "us = 0\n",
    "tu = 0\n",
    "    \n",
    "    #loop through given student record\n",
    "for x in verify:\n",
    "    #check the value of score\n",
    "    if x[2] == 'A':\n",
    "        us += x[1] * 5 #add this grade tp existing grade\n",
    "    elif x[2] == 'B':\n",
    "        us += x[1] * 4\n",
    "    elif x[2] == 'C':\n",
    "        us += x[1] * 3\n",
    "    elif x[2] == 'D':\n",
    "        us += x[1] * 2\n",
    "    elif x[2] == 'E':\n",
    "        us += x[1] * 1\n",
    "    elif x[2] == 'f':\n",
    "        us += x[1] * 0\n",
    "            \n",
    "    #add current credit unit to total credit unit\n",
    "    tu += x[1]\n",
    "    \n",
    "    #apply gpa formula\n",
    "gpa = us/tu\n",
    "    \n",
    "    #issue gpa score\n",
    "print(f' GPA score for {matric_no} is {gpa}')\n",
    "    \n"
   ]
  },
  {
   "cell_type": "code",
   "execution_count": null,
   "metadata": {},
   "outputs": [],
   "source": []
  },
  {
   "cell_type": "code",
   "execution_count": null,
   "metadata": {},
   "outputs": [],
   "source": []
  }
 ],
 "metadata": {
  "kernelspec": {
   "display_name": "Python 3",
   "language": "python",
   "name": "python3"
  },
  "language_info": {
   "codemirror_mode": {
    "name": "ipython",
    "version": 3
   },
   "file_extension": ".py",
   "mimetype": "text/x-python",
   "name": "python",
   "nbconvert_exporter": "python",
   "pygments_lexer": "ipython3",
   "version": "3.7.3"
  }
 },
 "nbformat": 4,
 "nbformat_minor": 2
}
